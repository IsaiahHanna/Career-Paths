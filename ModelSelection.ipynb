{
  "cells": [
    {
      "cell_type": "markdown",
      "metadata": {
        "id": "view-in-github",
        "colab_type": "text"
      },
      "source": [
        "<a href=\"https://colab.research.google.com/github/IsaiahHanna/Career-Paths/blob/main/ModelSelection.ipynb\" target=\"_parent\"><img src=\"https://colab.research.google.com/assets/colab-badge.svg\" alt=\"Open In Colab\"/></a>"
      ]
    },
    {
      "cell_type": "markdown",
      "source": [
        "### Set Up Path and Directory"
      ],
      "metadata": {
        "id": "HcBwZbeJzV4f"
      }
    },
    {
      "cell_type": "code",
      "source": [
        "!git clone https://github.com/IsaiahHanna/Career-Paths.git\n",
        "%cd Career-Paths"
      ],
      "metadata": {
        "colab": {
          "base_uri": "https://localhost:8080/"
        },
        "id": "YU0AgRFyzeF1",
        "outputId": "ea24c683-7d98-43ca-faae-6a1dac7cbfd1"
      },
      "execution_count": null,
      "outputs": [
        {
          "output_type": "stream",
          "name": "stdout",
          "text": [
            "Cloning into 'Career-Paths'...\n",
            "remote: Enumerating objects: 45, done.\u001b[K\n",
            "remote: Counting objects: 100% (45/45), done.\u001b[K\n",
            "remote: Compressing objects: 100% (43/43), done.\u001b[K\n",
            "remote: Total 45 (delta 15), reused 0 (delta 0), pack-reused 0 (from 0)\u001b[K\n",
            "Receiving objects: 100% (45/45), 13.97 MiB | 10.51 MiB/s, done.\n",
            "Resolving deltas: 100% (15/15), done.\n",
            "/content/Career-Paths/Career-Paths/Career-Paths/Career-Paths/Career-Paths/Career-Paths/Career-Paths/Career-Paths/Career-Paths/Career-Paths/Career-Paths\n"
          ]
        }
      ]
    },
    {
      "cell_type": "markdown",
      "metadata": {
        "id": "zbiGyTR9sbCt"
      },
      "source": [
        "# Model Selection"
      ]
    },
    {
      "cell_type": "markdown",
      "metadata": {
        "id": "H-9YQ_zEsbCu"
      },
      "source": [
        "#### Import Modules"
      ]
    },
    {
      "cell_type": "code",
      "execution_count": null,
      "metadata": {
        "id": "YpcUHCJqsbCv"
      },
      "outputs": [],
      "source": [
        "import numpy as np\n",
        "import pandas as pd\n",
        "from sklearn.feature_selection import RFE\n",
        "from sklearn.model_selection import train_test_split,GridSearchCV\n",
        "from sklearn.tree import DecisionTreeRegressor\n",
        "from sklearn.ensemble import RandomForestRegressor,HistGradientBoostingRegressor\n",
        "from sklearn.metrics import mean_squared_error, r2_score,mean_absolute_error\n",
        "from sklearn.experimental import enable_hist_gradient_boosting\n",
        "from sklearn.preprocessing import MultiLabelBinarizer\n",
        "\n"
      ]
    },
    {
      "cell_type": "markdown",
      "metadata": {
        "id": "EhpRfe4usbCv"
      },
      "source": [
        "#### Import Dataset"
      ]
    },
    {
      "cell_type": "code",
      "execution_count": null,
      "metadata": {
        "id": "u5PxC9xNsbCw"
      },
      "outputs": [],
      "source": [
        "df = pd.read_csv(\"CareerPaths.csv\")"
      ]
    },
    {
      "cell_type": "code",
      "source": [
        "stringCols = ['CREDENTIAL','GROUPBY','INSTITUTION','INSTITUTION_NAME','PROGRAM_AREA_NAME','PROGRAM_NAME']\n",
        "for col in stringCols:\n",
        "  encoded = pd.get_dummies(df[col], prefix=col)\n",
        "  df = df.drop(col, axis=1)\n",
        "  df = df.join(encoded)\n",
        "\n",
        "for col in df.columns.tolist():\n",
        "  if df[col].dtype == 'bool':\n",
        "    df[col] = df[col].astype(int)"
      ],
      "metadata": {
        "id": "yLJZRSS3CmsY"
      },
      "execution_count": null,
      "outputs": []
    },
    {
      "cell_type": "markdown",
      "metadata": {
        "id": "BFnPkKlosbCw"
      },
      "source": [
        "##### Split to testing and training sets"
      ]
    },
    {
      "cell_type": "code",
      "execution_count": null,
      "metadata": {
        "id": "u3ttLu_QsbCw"
      },
      "outputs": [],
      "source": [
        "x = df.drop(columns = [\"SALARY_WAGE\",'PROGRAM_AREA'])\n",
        "y = df['SALARY_WAGE']"
      ]
    },
    {
      "cell_type": "code",
      "execution_count": null,
      "metadata": {
        "id": "rLAdqwAksbCw"
      },
      "outputs": [],
      "source": [
        "xTrain,xTest,yTrain,yTest = train_test_split(x,y,test_size=0.2,random_state = 42)"
      ]
    },
    {
      "cell_type": "markdown",
      "metadata": {
        "id": "LEQCxPiLsbCw"
      },
      "source": [
        "### Test different models to see which is the best"
      ]
    },
    {
      "cell_type": "markdown",
      "source": [
        "#### Decision Tree"
      ],
      "metadata": {
        "id": "8-XHlCDZ2pIv"
      }
    },
    {
      "cell_type": "code",
      "source": [
        "regressor = DecisionTreeRegressor(random_state = 4)\n",
        "regressor.fit(xTrain,yTrain)\n",
        "yPred = regressor.predict(xTest)"
      ],
      "metadata": {
        "id": "BRL9Lyjn2sHw"
      },
      "execution_count": null,
      "outputs": []
    },
    {
      "cell_type": "code",
      "source": [
        "mse = mean_squared_error(yTest,yPred)\n",
        "mae = mean_absolute_error(yTest,yPred)\n",
        "r2 = r2_score(yTest,yPred)\n",
        "\n",
        "print(f\"Mean Squared Error: {mse}\")\n",
        "print(f\"Mean Absolute Error: {mae}\")\n",
        "print(f\"R-squared: {r2}\")"
      ],
      "metadata": {
        "colab": {
          "base_uri": "https://localhost:8080/"
        },
        "id": "WDLNAbHv3E9e",
        "outputId": "02b0eb2d-a86e-48eb-b037-b1b109feb6c0"
      },
      "execution_count": null,
      "outputs": [
        {
          "output_type": "stream",
          "name": "stdout",
          "text": [
            "Mean Squared Error: 48.98635320663116\n",
            "Mean Absolute Error: 4.22561384736243\n",
            "R-squared: 0.2911158545838586\n"
          ]
        }
      ]
    },
    {
      "cell_type": "markdown",
      "metadata": {
        "id": "csj_3i8VsbCw"
      },
      "source": [
        "##### Random Forest"
      ]
    },
    {
      "cell_type": "code",
      "execution_count": null,
      "metadata": {
        "id": "FjL7ePGysbCx",
        "outputId": "4e66f6b8-ff57-4053-cc63-95666ce1675e",
        "colab": {
          "base_uri": "https://localhost:8080/"
        }
      },
      "outputs": [
        {
          "output_type": "stream",
          "name": "stderr",
          "text": [
            "/usr/local/lib/python3.10/dist-packages/sklearn/ensemble/_forest.py:615: UserWarning: Some inputs do not have OOB scores. This probably means too few trees were used to compute any reliable OOB estimates.\n",
            "  warn(\n"
          ]
        }
      ],
      "source": [
        "regressor = RandomForestRegressor(n_estimators=10,oob_score=True,random_state=4)\n",
        "regressor.fit(xTrain,yTrain)\n",
        "yPred = regressor.predict(xTest)"
      ]
    },
    {
      "cell_type": "code",
      "execution_count": null,
      "metadata": {
        "id": "YcYiRF2ssbCx",
        "outputId": "1e5f498a-a9c5-49d8-b6b5-13638f641b8e",
        "colab": {
          "base_uri": "https://localhost:8080/"
        }
      },
      "outputs": [
        {
          "output_type": "stream",
          "name": "stdout",
          "text": [
            "Out-of-Bag Score: 0.41519586454757296\n",
            "Mean Squared Error: 25.781607750377916\n",
            "Mean Absolute Error: 3.296822125334026\n",
            "R-squared: 0.6269129710372721\n"
          ]
        }
      ],
      "source": [
        "# Collect all relevant scores\n",
        "oob_score = regressor.oob_score_\n",
        "mse = mean_squared_error(yTest,yPred)\n",
        "mae = mean_absolute_error(yTest,yPred)\n",
        "r2 = r2_score(yTest,yPred)\n",
        "\n",
        "print(f\"Out-of-Bag Score: {oob_score}\")\n",
        "print(f\"Mean Squared Error: {mse}\")\n",
        "print(f\"Mean Absolute Error: {mae}\")\n",
        "print(f\"R-squared: {r2}\")\n"
      ]
    },
    {
      "cell_type": "markdown",
      "metadata": {
        "id": "LIdkwqzUsbCx"
      },
      "source": [
        "##### HistGradientBoostingRegressor"
      ]
    },
    {
      "cell_type": "code",
      "execution_count": null,
      "metadata": {
        "id": "plKf_e9TsbCy"
      },
      "outputs": [],
      "source": [
        "hist = HistGradientBoostingRegressor(random_state = 4)\n",
        "hist.fit(xTrain,yTrain)\n",
        "yPred = hist.predict(xTest)"
      ]
    },
    {
      "cell_type": "code",
      "execution_count": null,
      "metadata": {
        "id": "YLeMEOPwsbCy",
        "outputId": "3a3b38ae-8a73-4255-fc39-9b5964493c2b",
        "colab": {
          "base_uri": "https://localhost:8080/"
        }
      },
      "outputs": [
        {
          "output_type": "stream",
          "name": "stdout",
          "text": [
            "Mean Squared Error: 24.675458878726484\n",
            "Mean Absolute Error: 3.1410955723336675\n",
            "R-squared: 0.6429201107048461\n"
          ]
        }
      ],
      "source": [
        "mse = mean_squared_error(yTest,yPred)\n",
        "mae = mean_absolute_error(yTest,yPred)\n",
        "r2 = r2_score(yTest,yPred)\n",
        "\n",
        "print(f\"Mean Squared Error: {mse}\")\n",
        "print(f\"Mean Absolute Error: {mae}\")\n",
        "print(f\"R-squared: {r2}\")"
      ]
    },
    {
      "cell_type": "markdown",
      "source": [
        "#### Fine Tuning the Decision Tree Model"
      ],
      "metadata": {
        "id": "Bpl-3fn4mkMd"
      }
    },
    {
      "cell_type": "code",
      "source": [
        "parameters = {\n",
        "    'max_depth' : [10,20,30,None],\n",
        "    'min_samples_split' : [2,5,10],\n",
        "    'min_samples_leaf' : [1,2,4],\n",
        "    'criterion' : ['squared_error','absolute_error','friedman_mse','poisson']\n",
        "}\n",
        "\n",
        "regressor = DecisionTreeRegressor(random_state=4)\n",
        "grid = GridSearchCV(regressor,parameters,cv = 5,\n",
        "                            n_jobs = -1,verbose= 2,scoring = 'neg_mean_squared_error')"
      ],
      "metadata": {
        "id": "EiuAsEo7nG9N"
      },
      "execution_count": null,
      "outputs": []
    },
    {
      "cell_type": "code",
      "source": [
        "noNa = df.dropna()\n",
        "x = noNa.drop(columns = [\"SALARY_WAGE\",'PROGRAM_AREA'])\n",
        "y = noNa['SALARY_WAGE']\n",
        "xTrainNoNa,xTestNoNa,yTrainNoNa,yTestNoNa = train_test_split(x,y,test_size=0.2,random_state = 42)"
      ],
      "metadata": {
        "id": "nVNaS9w491Ue"
      },
      "execution_count": null,
      "outputs": []
    },
    {
      "cell_type": "code",
      "source": [
        "grid.fit(xTrainNoNa,yTrainNoNa)\n",
        "bestregressor = grid.best_estimator_\n"
      ],
      "metadata": {
        "colab": {
          "base_uri": "https://localhost:8080/"
        },
        "id": "wuft5b5Gr1RL",
        "outputId": "8733337c-ac4c-4dac-957d-36b8f85d0038"
      },
      "execution_count": null,
      "outputs": [
        {
          "output_type": "stream",
          "name": "stdout",
          "text": [
            "Fitting 5 folds for each of 144 candidates, totalling 720 fits\n",
            "Best Parameters (Random Search): {'criterion': 'squared_error', 'max_depth': 10, 'min_samples_leaf': 4, 'min_samples_split': 2}\n"
          ]
        }
      ]
    },
    {
      "cell_type": "code",
      "source": [
        "yPred = bestregressor.predict(xTest)\n",
        "bestParams = grid.best_params_\n",
        "\n",
        "print(f\"Best Parameters (Grid Search): {bestParams}\")"
      ],
      "metadata": {
        "colab": {
          "base_uri": "https://localhost:8080/"
        },
        "id": "Ex1aWSbmCkeE",
        "outputId": "7337e386-90d1-4984-bc20-6b9442e308e5"
      },
      "execution_count": null,
      "outputs": [
        {
          "output_type": "stream",
          "name": "stdout",
          "text": [
            "Best Parameters (Grid Search): {'criterion': 'squared_error', 'max_depth': 10, 'min_samples_leaf': 4, 'min_samples_split': 2}\n"
          ]
        }
      ]
    },
    {
      "cell_type": "code",
      "source": [
        "mse = mean_squared_error(yTest,yPred)\n",
        "mae = mean_absolute_error(yTest,yPred)\n",
        "r2 = r2_score(yTest,yPred)\n",
        "\n",
        "print(f\"Mean Squared Error: {mse}\")\n",
        "print(f\"Mean Absolute Error: {mae}\")\n",
        "print(f\"R-squared: {r2}\")"
      ],
      "metadata": {
        "colab": {
          "base_uri": "https://localhost:8080/"
        },
        "id": "YHV36jkDv0_b",
        "outputId": "7870f868-4e74-479f-e940-1c82e3dc0b9d"
      },
      "execution_count": null,
      "outputs": [
        {
          "output_type": "stream",
          "name": "stdout",
          "text": [
            "Mean Squared Error: 33.43054028046824\n",
            "Mean Absolute Error: 3.3491955680573238\n",
            "R-squared: 0.5162248580220576\n"
          ]
        }
      ]
    }
  ],
  "metadata": {
    "kernelspec": {
      "display_name": ".venv",
      "language": "python",
      "name": "python3"
    },
    "language_info": {
      "codemirror_mode": {
        "name": "ipython",
        "version": 3
      },
      "file_extension": ".py",
      "mimetype": "text/x-python",
      "name": "python",
      "nbconvert_exporter": "python",
      "pygments_lexer": "ipython3",
      "version": "3.11.9"
    },
    "colab": {
      "provenance": [],
      "include_colab_link": true
    }
  },
  "nbformat": 4,
  "nbformat_minor": 0
}