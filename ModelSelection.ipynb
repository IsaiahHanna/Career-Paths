{
  "cells": [
    {
      "cell_type": "markdown",
      "metadata": {
        "id": "view-in-github",
        "colab_type": "text"
      },
      "source": [
        "<a href=\"https://colab.research.google.com/github/IsaiahHanna/Career-Paths/blob/main/ModelSelection.ipynb\" target=\"_parent\"><img src=\"https://colab.research.google.com/assets/colab-badge.svg\" alt=\"Open In Colab\"/></a>"
      ]
    },
    {
      "cell_type": "markdown",
      "metadata": {
        "id": "zbiGyTR9sbCt"
      },
      "source": [
        "# Model Selection"
      ]
    },
    {
      "cell_type": "markdown",
      "metadata": {
        "id": "H-9YQ_zEsbCu"
      },
      "source": [
        "#### Import Modules"
      ]
    },
    {
      "cell_type": "code",
      "execution_count": null,
      "metadata": {
        "id": "YpcUHCJqsbCv"
      },
      "outputs": [],
      "source": [
        "import numpy as np\n",
        "import pandas as pd\n",
        "from sklearn.feature_selection import RFE\n",
        "from sklearn.model_selection import train_test_split\n",
        "from sklearn.ensemble import RandomForestRegressor,HistGradientBoostingRegressor\n",
        "from sklearn.metrics import f1_score, mean_squared_error, r2_score\n",
        "from sklearn.experimental import enable_hist_gradient_boosting\n",
        "\n"
      ]
    },
    {
      "cell_type": "markdown",
      "metadata": {
        "id": "EhpRfe4usbCv"
      },
      "source": [
        "#### Import Dataset"
      ]
    },
    {
      "cell_type": "code",
      "execution_count": null,
      "metadata": {
        "id": "u5PxC9xNsbCw"
      },
      "outputs": [],
      "source": [
        "df = pd.read_csv(\"CareerPaths.csv\")"
      ]
    },
    {
      "cell_type": "markdown",
      "metadata": {
        "id": "BFnPkKlosbCw"
      },
      "source": [
        "##### Split to testing and training sets"
      ]
    },
    {
      "cell_type": "code",
      "execution_count": null,
      "metadata": {
        "id": "u3ttLu_QsbCw"
      },
      "outputs": [],
      "source": [
        "x = df.drop(columns = \"EMPLOY_FULL_TIME\")\n",
        "y = df['EMPLOY_FULL_TIME']"
      ]
    },
    {
      "cell_type": "code",
      "execution_count": null,
      "metadata": {
        "id": "rLAdqwAksbCw"
      },
      "outputs": [],
      "source": [
        "xTrain,xTest,yTrain,yTest = train_test_split(x,y,test_size=0.2,random_state = 4)"
      ]
    },
    {
      "cell_type": "markdown",
      "metadata": {
        "id": "LEQCxPiLsbCw"
      },
      "source": [
        "### Test different models to see which is the best"
      ]
    },
    {
      "cell_type": "markdown",
      "metadata": {
        "id": "csj_3i8VsbCw"
      },
      "source": [
        "##### Random Forest"
      ]
    },
    {
      "cell_type": "code",
      "execution_count": null,
      "metadata": {
        "id": "FjL7ePGysbCx",
        "outputId": "71998bcf-c7d5-4c64-d86c-6cc1d4216a71"
      },
      "outputs": [
        {
          "name": "stderr",
          "output_type": "stream",
          "text": [
            "c:\\Users\\isaia\\Career-Paths\\.venv\\Lib\\site-packages\\sklearn\\ensemble\\_forest.py:615: UserWarning: Some inputs do not have OOB scores. This probably means too few trees were used to compute any reliable OOB estimates.\n",
            "  warn(\n"
          ]
        }
      ],
      "source": [
        "regressor = RandomForestRegressor(n_estimators=10,oob_score=True)\n",
        "regressor.fit(xTrain,yTrain)\n",
        "yPred = regressor.predict(xTest)"
      ]
    },
    {
      "cell_type": "code",
      "execution_count": null,
      "metadata": {
        "id": "YcYiRF2ssbCx",
        "outputId": "465b3f97-e3c9-4f4e-efab-ec0f09905a26"
      },
      "outputs": [
        {
          "name": "stdout",
          "output_type": "stream",
          "text": [
            "Out-of-Bag Score: 0.18329840579571544\n",
            "Mean Squared Error: 0.016184498507820243\n",
            "R-squared: 0.5264597294552447\n"
          ]
        }
      ],
      "source": [
        "# Collect all relevant scores\n",
        "oob_score = regressor.oob_score_\n",
        "mse = mean_squared_error(yTest,yPred)\n",
        "r2 = r2_score(yTest,yPred)\n",
        "\n",
        "print(f\"Out-of-Bag Score: {oob_score}\")\n",
        "print(f\"Mean Squared Error: {mse}\")\n",
        "print(f\"R-squared: {r2}\")\n"
      ]
    },
    {
      "cell_type": "markdown",
      "metadata": {
        "id": "LIdkwqzUsbCx"
      },
      "source": [
        "##### HistGradientBoostingRegressor"
      ]
    },
    {
      "cell_type": "code",
      "execution_count": null,
      "metadata": {
        "id": "plKf_e9TsbCy"
      },
      "outputs": [],
      "source": [
        "hist = HistGradientBoostingRegressor()\n",
        "hist.fit(xTrain,yTrain)\n",
        "yPred = hist.predict(xTest)"
      ]
    },
    {
      "cell_type": "code",
      "execution_count": null,
      "metadata": {
        "id": "YLeMEOPwsbCy",
        "outputId": "0008a94e-7b7c-43c7-f2d7-209620e49a93"
      },
      "outputs": [
        {
          "name": "stdout",
          "output_type": "stream",
          "text": [
            "Mean Squared Error: 0.014679628883094799\n",
            "R-squared: 0.5704905265097682\n"
          ]
        }
      ],
      "source": [
        "mse = mean_squared_error(yTest,yPred)\n",
        "r2 = r2_score(yTest,yPred)\n",
        "\n",
        "print(f\"Mean Squared Error: {mse}\")\n",
        "print(f\"R-squared: {r2}\")"
      ]
    }
  ],
  "metadata": {
    "kernelspec": {
      "display_name": ".venv",
      "language": "python",
      "name": "python3"
    },
    "language_info": {
      "codemirror_mode": {
        "name": "ipython",
        "version": 3
      },
      "file_extension": ".py",
      "mimetype": "text/x-python",
      "name": "python",
      "nbconvert_exporter": "python",
      "pygments_lexer": "ipython3",
      "version": "3.11.9"
    },
    "colab": {
      "provenance": [],
      "include_colab_link": true
    }
  },
  "nbformat": 4,
  "nbformat_minor": 0
}