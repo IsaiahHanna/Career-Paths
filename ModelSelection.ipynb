{
  "cells": [
    {
      "cell_type": "markdown",
      "metadata": {
        "id": "view-in-github",
        "colab_type": "text"
      },
      "source": [
        "<a href=\"https://colab.research.google.com/github/IsaiahHanna/Career-Paths/blob/main/ModelSelection.ipynb\" target=\"_parent\"><img src=\"https://colab.research.google.com/assets/colab-badge.svg\" alt=\"Open In Colab\"/></a>"
      ]
    },
    {
      "cell_type": "markdown",
      "source": [
        "### Set Up Path and Directory"
      ],
      "metadata": {
        "id": "HcBwZbeJzV4f"
      }
    },
    {
      "cell_type": "code",
      "source": [
        "!git clone https://github.com/IsaiahHanna/Career-Paths.git\n",
        "%cd Career-Paths"
      ],
      "metadata": {
        "colab": {
          "base_uri": "https://localhost:8080/"
        },
        "id": "YU0AgRFyzeF1",
        "outputId": "eccd2799-bd68-452b-f02b-9dc88a15590a"
      },
      "execution_count": null,
      "outputs": [
        {
          "output_type": "stream",
          "name": "stdout",
          "text": [
            "Cloning into 'Career-Paths'...\n",
            "remote: Enumerating objects: 48, done.\u001b[K\n",
            "remote: Counting objects: 100% (48/48), done.\u001b[K\n",
            "remote: Compressing objects: 100% (46/46), done.\u001b[K\n",
            "remote: Total 48 (delta 17), reused 0 (delta 0), pack-reused 0 (from 0)\u001b[K\n",
            "Receiving objects: 100% (48/48), 13.98 MiB | 10.74 MiB/s, done.\n",
            "Resolving deltas: 100% (17/17), done.\n",
            "/content/Career-Paths/Career-Paths\n"
          ]
        }
      ]
    },
    {
      "cell_type": "markdown",
      "metadata": {
        "id": "zbiGyTR9sbCt"
      },
      "source": [
        "# Model Selection"
      ]
    },
    {
      "cell_type": "markdown",
      "metadata": {
        "id": "H-9YQ_zEsbCu"
      },
      "source": [
        "#### Import Modules"
      ]
    },
    {
      "cell_type": "code",
      "execution_count": null,
      "metadata": {
        "id": "YpcUHCJqsbCv"
      },
      "outputs": [],
      "source": [
        "import numpy as np\n",
        "import pandas as pd\n",
        "from sklearn.feature_selection import RFE\n",
        "from sklearn.model_selection import train_test_split,GridSearchCV\n",
        "from sklearn.tree import DecisionTreeRegressor\n",
        "from sklearn.linear_model import Lasso, Ridge\n",
        "from sklearn.ensemble import RandomForestRegressor,HistGradientBoostingRegressor\n",
        "from sklearn.metrics import mean_squared_error, r2_score,mean_absolute_error\n",
        "from sklearn.experimental import enable_hist_gradient_boosting\n",
        "from sklearn.preprocessing import MultiLabelBinarizer,PolynomialFeatures\n",
        "from sklearn.pipeline import Pipeline\n",
        "\n"
      ]
    },
    {
      "cell_type": "markdown",
      "metadata": {
        "id": "EhpRfe4usbCv"
      },
      "source": [
        "#### Import Dataset"
      ]
    },
    {
      "cell_type": "code",
      "execution_count": null,
      "metadata": {
        "id": "u5PxC9xNsbCw"
      },
      "outputs": [],
      "source": [
        "df = pd.read_csv(\"CareerPaths.csv\")"
      ]
    },
    {
      "cell_type": "code",
      "source": [
        "stringCols = ['CREDENTIAL','GROUPBY','INSTITUTION','INSTITUTION_NAME','PROGRAM_AREA_NAME','PROGRAM_NAME']\n",
        "for col in stringCols:\n",
        "  encoded = pd.get_dummies(df[col], prefix=col)\n",
        "  df = df.drop(col, axis=1)\n",
        "  df = df.join(encoded)\n",
        "\n",
        "for col in df.columns.tolist():\n",
        "  if df[col].dtype == 'bool':\n",
        "    df[col] = df[col].astype(int)"
      ],
      "metadata": {
        "id": "yLJZRSS3CmsY"
      },
      "execution_count": null,
      "outputs": []
    },
    {
      "cell_type": "markdown",
      "metadata": {
        "id": "BFnPkKlosbCw"
      },
      "source": [
        "##### Split to testing and training sets"
      ]
    },
    {
      "cell_type": "code",
      "execution_count": null,
      "metadata": {
        "id": "u3ttLu_QsbCw"
      },
      "outputs": [],
      "source": [
        "x = df.drop(columns = [\"SALARY_WAGE\",'PROGRAM_AREA'])\n",
        "y = df['SALARY_WAGE']"
      ]
    },
    {
      "cell_type": "code",
      "execution_count": null,
      "metadata": {
        "id": "rLAdqwAksbCw"
      },
      "outputs": [],
      "source": [
        "xTrain,xTest,yTrain,yTest = train_test_split(x,y,test_size=0.2,random_state = 42)"
      ]
    },
    {
      "cell_type": "code",
      "source": [
        "noNa = df.dropna()\n",
        "x = noNa.drop(columns = [\"SALARY_WAGE\",'PROGRAM_AREA'])\n",
        "y = noNa['SALARY_WAGE']\n",
        "xTrainNoNa,xTestNoNa,yTrainNoNa,yTestNoNa = train_test_split(x,y,test_size=0.2,random_state = 42)"
      ],
      "metadata": {
        "id": "nVNaS9w491Ue"
      },
      "execution_count": null,
      "outputs": []
    },
    {
      "cell_type": "markdown",
      "metadata": {
        "id": "LEQCxPiLsbCw"
      },
      "source": [
        "### Test different models to see which is the best"
      ]
    },
    {
      "cell_type": "markdown",
      "source": [
        "#### Lasso Regression"
      ],
      "metadata": {
        "id": "wKCGy3UkJgl6"
      }
    },
    {
      "cell_type": "code",
      "source": [
        "lasso = Lasso(alpha=0.1)\n",
        "lasso.fit(xTrainNoNa,yTrainNoNa)\n",
        "yPred = lasso.predict(xTestNoNa)"
      ],
      "metadata": {
        "id": "EygLXJJCJkjt"
      },
      "execution_count": null,
      "outputs": []
    },
    {
      "cell_type": "code",
      "source": [
        "mse = mean_squared_error(yTestNoNa,yPred)\n",
        "mae = mean_absolute_error(yTestNoNa,yPred)\n",
        "r2 = r2_score(yTestNoNa,yPred)\n",
        "\n",
        "print(f\"Mean Squared Error: {mse}\")\n",
        "print(f\"Mean Absolute Error: {mae}\")\n",
        "print(f\"R-squared: {r2}\")"
      ],
      "metadata": {
        "colab": {
          "base_uri": "https://localhost:8080/"
        },
        "id": "-dbdx0NbJvTc",
        "outputId": "d542f2a4-fe00-4a70-caad-22b8e86aaf2a"
      },
      "execution_count": null,
      "outputs": [
        {
          "output_type": "stream",
          "name": "stdout",
          "text": [
            "Mean Squared Error: 21.681659621824704\n",
            "Mean Absolute Error: 3.275886268923326\n",
            "R-squared: 0.5518969373633098\n"
          ]
        }
      ]
    },
    {
      "cell_type": "markdown",
      "source": [
        "#### Ridge Regression"
      ],
      "metadata": {
        "id": "4OrayIvTJ3mm"
      }
    },
    {
      "cell_type": "code",
      "source": [
        "ridge = Ridge(alpha=0.1)\n",
        "ridge.fit(xTrainNoNa,yTrainNoNa)\n",
        "yPred = ridge.predict(xTestNoNa)"
      ],
      "metadata": {
        "id": "JCb_j5UdJ5tk"
      },
      "execution_count": null,
      "outputs": []
    },
    {
      "cell_type": "code",
      "source": [
        "mse = mean_squared_error(yTestNoNa,yPred)\n",
        "mae = mean_absolute_error(yTestNoNa,yPred)\n",
        "r2 = r2_score(yTestNoNa,yPred)\n",
        "\n",
        "print(f\"Mean Squared Error: {mse}\")\n",
        "print(f\"Mean Absolute Error: {mae}\")\n",
        "print(f\"R-squared: {r2}\")"
      ],
      "metadata": {
        "colab": {
          "base_uri": "https://localhost:8080/"
        },
        "id": "qVmVyYUbJ6Bl",
        "outputId": "965c5891-c300-4c87-c3a5-61a69e021b79"
      },
      "execution_count": null,
      "outputs": [
        {
          "output_type": "stream",
          "name": "stdout",
          "text": [
            "Mean Squared Error: 18.67938651304906\n",
            "Mean Absolute Error: 3.0094392180735574\n",
            "R-squared: 0.6139460516091556\n"
          ]
        }
      ]
    },
    {
      "cell_type": "markdown",
      "source": [
        "#### Decision Tree"
      ],
      "metadata": {
        "id": "8-XHlCDZ2pIv"
      }
    },
    {
      "cell_type": "code",
      "source": [
        "regressor = DecisionTreeRegressor(random_state = 4)\n",
        "regressor.fit(xTrain,yTrain)\n",
        "yPred = regressor.predict(xTest)"
      ],
      "metadata": {
        "id": "BRL9Lyjn2sHw"
      },
      "execution_count": null,
      "outputs": []
    },
    {
      "cell_type": "code",
      "source": [
        "mse = mean_squared_error(yTest,yPred)\n",
        "mae = mean_absolute_error(yTest,yPred)\n",
        "r2 = r2_score(yTest,yPred)\n",
        "\n",
        "print(f\"Mean Squared Error: {mse}\")\n",
        "print(f\"Mean Absolute Error: {mae}\")\n",
        "print(f\"R-squared: {r2}\")"
      ],
      "metadata": {
        "colab": {
          "base_uri": "https://localhost:8080/"
        },
        "id": "WDLNAbHv3E9e",
        "outputId": "f4640199-f9c9-4b85-dd65-07172bec89e3"
      },
      "execution_count": null,
      "outputs": [
        {
          "output_type": "stream",
          "name": "stdout",
          "text": [
            "Mean Squared Error: 48.98635320663116\n",
            "Mean Absolute Error: 4.22561384736243\n",
            "R-squared: 0.2911158545838586\n"
          ]
        }
      ]
    },
    {
      "cell_type": "markdown",
      "metadata": {
        "id": "csj_3i8VsbCw"
      },
      "source": [
        "##### Random Forest"
      ]
    },
    {
      "cell_type": "code",
      "execution_count": null,
      "metadata": {
        "id": "FjL7ePGysbCx",
        "outputId": "378e5b13-f07c-4a9c-e67f-3b4fa848a0bb",
        "colab": {
          "base_uri": "https://localhost:8080/"
        }
      },
      "outputs": [
        {
          "output_type": "stream",
          "name": "stderr",
          "text": [
            "/usr/local/lib/python3.10/dist-packages/sklearn/ensemble/_forest.py:615: UserWarning: Some inputs do not have OOB scores. This probably means too few trees were used to compute any reliable OOB estimates.\n",
            "  warn(\n"
          ]
        }
      ],
      "source": [
        "regressor = RandomForestRegressor(n_estimators=10,oob_score=True,random_state=4)\n",
        "regressor.fit(xTrain,yTrain)\n",
        "yPred = regressor.predict(xTest)"
      ]
    },
    {
      "cell_type": "code",
      "execution_count": null,
      "metadata": {
        "id": "YcYiRF2ssbCx",
        "outputId": "c099a8b6-239f-4e4a-e779-73e3d1f3789e",
        "colab": {
          "base_uri": "https://localhost:8080/"
        }
      },
      "outputs": [
        {
          "output_type": "stream",
          "name": "stdout",
          "text": [
            "Out-of-Bag Score: 0.41519586454757296\n",
            "Mean Squared Error: 25.781607750377916\n",
            "Mean Absolute Error: 3.296822125334026\n",
            "R-squared: 0.6269129710372721\n"
          ]
        }
      ],
      "source": [
        "# Collect all relevant scores\n",
        "oob_score = regressor.oob_score_\n",
        "mse = mean_squared_error(yTest,yPred)\n",
        "mae = mean_absolute_error(yTest,yPred)\n",
        "r2 = r2_score(yTest,yPred)\n",
        "\n",
        "print(f\"Out-of-Bag Score: {oob_score}\")\n",
        "print(f\"Mean Squared Error: {mse}\")\n",
        "print(f\"Mean Absolute Error: {mae}\")\n",
        "print(f\"R-squared: {r2}\")\n"
      ]
    },
    {
      "cell_type": "markdown",
      "metadata": {
        "id": "LIdkwqzUsbCx"
      },
      "source": [
        "##### HistGradientBoostingRegressor"
      ]
    },
    {
      "cell_type": "code",
      "execution_count": null,
      "metadata": {
        "id": "plKf_e9TsbCy"
      },
      "outputs": [],
      "source": [
        "hist = HistGradientBoostingRegressor(random_state = 4)\n",
        "hist.fit(xTrain,yTrain)\n",
        "yPred = hist.predict(xTest)"
      ]
    },
    {
      "cell_type": "code",
      "execution_count": null,
      "metadata": {
        "id": "YLeMEOPwsbCy",
        "outputId": "c6715a1a-7546-4807-ff1b-444f0875cf9b",
        "colab": {
          "base_uri": "https://localhost:8080/"
        }
      },
      "outputs": [
        {
          "output_type": "stream",
          "name": "stdout",
          "text": [
            "Mean Squared Error: 24.675458878726484\n",
            "Mean Absolute Error: 3.1410955723336675\n",
            "R-squared: 0.6429201107048461\n"
          ]
        }
      ],
      "source": [
        "mse = mean_squared_error(yTest,yPred)\n",
        "mae = mean_absolute_error(yTest,yPred)\n",
        "r2 = r2_score(yTest,yPred)\n",
        "\n",
        "print(f\"Mean Squared Error: {mse}\")\n",
        "print(f\"Mean Absolute Error: {mae}\")\n",
        "print(f\"R-squared: {r2}\")"
      ]
    },
    {
      "cell_type": "markdown",
      "source": [
        "#### Fine Tuning the Ridge Regression Model\n"
      ],
      "metadata": {
        "id": "Bpl-3fn4mkMd"
      }
    },
    {
      "cell_type": "code",
      "source": [
        "ridge = Ridge()\n",
        "rfe = RFE(estimator=ridge, n_features_to_select=10)\n",
        "\n",
        "pipeline = Pipeline([\n",
        "    ('rfe',rfe),\n",
        "    ('ridge',ridge)\n",
        "])\n"
      ],
      "metadata": {
        "id": "DoxA2iSMLl04"
      },
      "execution_count": null,
      "outputs": []
    },
    {
      "cell_type": "code",
      "source": [
        "parameters = {\n",
        "    'ridge__alpha': [0.001,0.01, 0.1, 1, 10, 100]\n",
        "}\n",
        "\n",
        "grid = GridSearchCV(pipeline,parameters,cv = 5)"
      ],
      "metadata": {
        "id": "EiuAsEo7nG9N"
      },
      "execution_count": null,
      "outputs": []
    },
    {
      "cell_type": "code",
      "source": [
        "grid.fit(xTrainNoNa,yTrainNoNa)\n"
      ],
      "metadata": {
        "id": "wuft5b5Gr1RL"
      },
      "execution_count": null,
      "outputs": []
    },
    {
      "cell_type": "code",
      "source": [
        "bestModel = grid.best_estimator_\n",
        "bestParams = grid.best_params_\n",
        "yPred = bestModel.predict(xTestNoNa)\n",
        "print(f\"Best Parameters (Grid Search): {bestParams}\")\n",
        "print(f\"Selected Features: {rfe.support_}\")"
      ],
      "metadata": {
        "id": "Ex1aWSbmCkeE"
      },
      "execution_count": null,
      "outputs": []
    },
    {
      "cell_type": "code",
      "source": [
        "mse = mean_squared_error(yTest,yPred)\n",
        "mae = mean_absolute_error(yTest,yPred)\n",
        "r2 = r2_score(yTest,yPred)\n",
        "\n",
        "print(f\"Mean Squared Error: {mse}\")\n",
        "print(f\"Mean Absolute Error: {mae}\")\n",
        "print(f\"R-squared: {r2}\")"
      ],
      "metadata": {
        "id": "YHV36jkDv0_b"
      },
      "execution_count": null,
      "outputs": []
    }
  ],
  "metadata": {
    "kernelspec": {
      "display_name": ".venv",
      "language": "python",
      "name": "python3"
    },
    "language_info": {
      "codemirror_mode": {
        "name": "ipython",
        "version": 3
      },
      "file_extension": ".py",
      "mimetype": "text/x-python",
      "name": "python",
      "nbconvert_exporter": "python",
      "pygments_lexer": "ipython3",
      "version": "3.11.9"
    },
    "colab": {
      "provenance": [],
      "include_colab_link": true
    }
  },
  "nbformat": 4,
  "nbformat_minor": 0
}